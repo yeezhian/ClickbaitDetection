{
 "cells": [
  {
   "cell_type": "code",
   "execution_count": 0,
   "metadata": {
    "colab": {},
    "colab_type": "code",
    "id": "Wr5N5TVHjkcy"
   },
   "outputs": [],
   "source": []
  },
  {
   "cell_type": "code",
   "execution_count": 0,
   "metadata": {
    "colab": {
     "base_uri": "https://localhost:8080/",
     "height": 35
    },
    "colab_type": "code",
    "id": "bQtR6sPnjrw6",
    "outputId": "06e7c751-0f18-4494-90ba-ce40e29d7ec1"
   },
   "outputs": [
    {
     "name": "stdout",
     "output_type": "stream",
     "text": [
      "Drive already mounted at /content/drive/; to attempt to forcibly remount, call drive.mount(\"/content/drive/\", force_remount=True).\n"
     ]
    }
   ],
   "source": [
    "from google.colab import drive\n",
    "drive.mount('/content/drive/')"
   ]
  },
  {
   "cell_type": "code",
   "execution_count": 0,
   "metadata": {
    "colab": {},
    "colab_type": "code",
    "id": "QmCE4PS5jr44"
   },
   "outputs": [],
   "source": [
    "import sys\n",
    "from importlib import reload\n",
    "reload(sys)\n",
    "\n",
    "\n",
    "import pandas as pd\n",
    "import requests\n",
    "from joblib import Parallel, delayed             \n",
    "import pickle                                   \n",
    "from tqdm import tqdm                            \n",
    "\n",
    "\n",
    "def html_extractor(url):                         \n",
    "    try:\n",
    "        cookies = dict(cookies_are='working')\n",
    "        r = requests.get(url, cookies=cookies)\n",
    "        return r.text\n",
    "    except:\n",
    "        return \"no html\""
   ]
  },
  {
   "cell_type": "code",
   "execution_count": 0,
   "metadata": {
    "colab": {},
    "colab_type": "code",
    "id": "SOOj9YO8mke2"
   },
   "outputs": [],
   "source": [
    "\n",
    "clickbaits = pd.read_csv('/content/drive/My Drive/web_scrap/data/Clickbait.csv')"
   ]
  },
  {
   "cell_type": "code",
   "execution_count": 0,
   "metadata": {
    "colab": {
     "base_uri": "https://localhost:8080/",
     "height": 52
    },
    "colab_type": "code",
    "id": "eKpdlCXslMsJ",
    "outputId": "303d72c1-1dfc-4add-bb94-46bcdf014bc8"
   },
   "outputs": [
    {
     "name": "stderr",
     "output_type": "stream",
     "text": [
      "100%|██████████| 2137/2137 [00:52<00:00, 40.67it/s]\n",
      "100%|██████████| 3019/3019 [02:24<00:00, 20.83it/s]\n"
     ]
    }
   ],
   "source": [
    "non_clickbaits = pd.read_csv('/content/drive/My Drive/web_scrap/data/NonClickbait.csv')\n",
    "\n",
    "clickbait_urls = clickbaits.status_link.values                    \n",
    "non_clickbait_urls = non_clickbaits.status_link.values\n",
    "\n",
    "\n",
    "clickbait_html = Parallel(n_jobs=40)(delayed(html_extractor)(u) for u in tqdm(clickbait_urls))    \n",
    "pickle.dump(clickbait_html, open('/content/drive/My Drive/web_scrap/data/clickbait_html.pkl', 'wb'), -1)\n",
    "\n",
    "non_clickbait_html = Parallel(n_jobs=40)(delayed(html_extractor)(u) for u in tqdm(non_clickbait_urls))\n",
    "pickle.dump(non_clickbait_html, open('/content/drive/My Drive/web_scrap/data/non_clickbait_html.pkl', 'wb'), -1)"
   ]
  }
 ],
 "metadata": {
  "accelerator": "GPU",
  "colab": {
   "name": "01_dexters_scrapper.ipynb",
   "provenance": [],
   "version": "0.3.2"
  },
  "kernelspec": {
   "display_name": "Python 3",
   "language": "python",
   "name": "python3"
  },
  "language_info": {
   "codemirror_mode": {
    "name": "ipython",
    "version": 3
   },
   "file_extension": ".py",
   "mimetype": "text/x-python",
   "name": "python",
   "nbconvert_exporter": "python",
   "pygments_lexer": "ipython3",
   "version": "3.6.6"
  }
 },
 "nbformat": 4,
 "nbformat_minor": 1
}
